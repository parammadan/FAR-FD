{
 "cells": [
  {
   "cell_type": "code",
   "execution_count": 1,
   "metadata": {},
   "outputs": [],
   "source": [
    "#!/usr/bin/env python3\n",
    "\n",
    "\n",
    "import numpy as np\n",
    "import sys\n",
    "import os\n",
    "\n"
   ]
  },
  {
   "cell_type": "code",
   "execution_count": 2,
   "metadata": {},
   "outputs": [
    {
     "name": "stdout",
     "output_type": "stream",
     "text": [
      "===================================\n",
      "File: /Users/annimukh/Documents/acode/iclr-/saint-unofficial/outputs/2025-02-08/01-04-04/cls_embeddings_time.struct_time(tm_year=2025, tm_mon=2, tm_mday=7, tm_hour=19, tm_min=40, tm_sec=22, tm_wday=4, tm_yday=38, tm_isdst=0).npy\n",
      "===================================\n",
      "Type of the loaded object: <class 'numpy.ndarray'>\n",
      "\n",
      "Additional Array Information:\n",
      "  Shape: (118108, 32)\n",
      "  Data Type (dtype): float32\n",
      "  Number of Dimensions: 2\n",
      "  Total Number of Elements: 3779456\n",
      "  Memory Usage (bytes): 15117824\n",
      "\n",
      "Basic Statistical Information:\n",
      "  Minimum Value: -2.721226215362549\n",
      "  Maximum Value: 2.5612497329711914\n",
      "  Mean: 0.0004673588846344501\n",
      "  Standard Deviation: 1.0414952039718628\n"
     ]
    }
   ],
   "source": [
    "\n",
    "filename = \"/Users/annimukh/Documents/acode/iclr-/saint-unofficial/outputs/2025-02-08/01-04-04/cls_embeddings_time.struct_time(tm_year=2025, tm_mon=2, tm_mday=7, tm_hour=19, tm_min=40, tm_sec=22, tm_wday=4, tm_yday=38, tm_isdst=0).npy\"\n",
    "\n",
    "data = np.load(filename, allow_pickle=True)\n",
    "\n",
    "print(\"===================================\")\n",
    "print(f\"File: {filename}\")\n",
    "print(\"===================================\")\n",
    "print(f\"Type of the loaded object: {type(data)}\\n\")\n",
    "\n",
    "# If the loaded data is a NumPy array, print additional information.\n",
    "if isinstance(data, np.ndarray):\n",
    "    print(\"Additional Array Information:\")\n",
    "    print(f\"  Shape: {data.shape}\")\n",
    "    print(f\"  Data Type (dtype): {data.dtype}\")\n",
    "    print(f\"  Number of Dimensions: {data.ndim}\")\n",
    "    print(f\"  Total Number of Elements: {data.size}\")\n",
    "    print(f\"  Memory Usage (bytes): {data.nbytes}\")\n",
    "    \n",
    "    # If the array is numeric, calculate some statistics.\n",
    "    if np.issubdtype(data.dtype, np.number):\n",
    "        try:\n",
    "            print(\"\\nBasic Statistical Information:\")\n",
    "            print(f\"  Minimum Value: {np.min(data)}\")\n",
    "            print(f\"  Maximum Value: {np.max(data)}\")\n",
    "            print(f\"  Mean: {np.mean(data)}\")\n",
    "            print(f\"  Standard Deviation: {np.std(data)}\")\n",
    "        except Exception as e:\n",
    "            print(\"  Error computing statistical information:\", e)\n",
    "else:\n",
    "    print(\"The loaded object is not a NumPy array. Its contents will be displayed as is.\")\n",
    "\n",
    "\n"
   ]
  },
  {
   "cell_type": "code",
   "execution_count": 3,
   "metadata": {},
   "outputs": [
    {
     "name": "stdout",
     "output_type": "stream",
     "text": [
      "\n",
      "===================================\n",
      "Contents of the .npy file:\n",
      "===================================\n",
      "[[ 0.61048335 -1.4920328  -0.45096314 ...  0.83931875  1.4358059\n",
      "   0.95232993]\n",
      " [ 0.6393149  -1.5869938  -0.3862155  ...  0.9355329   1.332244\n",
      "   0.9254029 ]\n",
      " [ 0.67945874 -1.6146392  -0.58304024 ...  0.9343078   1.2940307\n",
      "   1.0269595 ]\n",
      " ...\n",
      " [ 0.5934928  -1.4042084  -0.18620533 ...  0.892417    1.4199116\n",
      "   0.900533  ]\n",
      " [ 0.586106   -1.3342028  -0.12904418 ...  0.88967615  1.4127158\n",
      "   0.9604313 ]\n",
      " [ 0.6444344  -1.8748622  -0.98285943 ...  0.8169124   1.2388458\n",
      "   1.2111361 ]]\n"
     ]
    }
   ],
   "source": [
    "\n",
    "# Display the actual content of the .npy file\n",
    "print(\"\\n===================================\")\n",
    "print(\"Contents of the .npy file:\")\n",
    "print(\"===================================\")\n",
    "print(data)\n"
   ]
  },
  {
   "cell_type": "code",
   "execution_count": null,
   "metadata": {},
   "outputs": [],
   "source": []
  }
 ],
 "metadata": {
  "kernelspec": {
   "display_name": "fraud-detec",
   "language": "python",
   "name": "python3"
  },
  "language_info": {
   "codemirror_mode": {
    "name": "ipython",
    "version": 3
   },
   "file_extension": ".py",
   "mimetype": "text/x-python",
   "name": "python",
   "nbconvert_exporter": "python",
   "pygments_lexer": "ipython3",
   "version": "3.10.16"
  }
 },
 "nbformat": 4,
 "nbformat_minor": 2
}
